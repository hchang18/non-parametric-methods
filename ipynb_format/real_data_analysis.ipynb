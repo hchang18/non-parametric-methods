{
  "nbformat": 4,
  "nbformat_minor": 0,
  "metadata": {
    "colab": {
      "name": "nonparametric_testing_real_data_analysis.ipynb",
      "provenance": [],
      "collapsed_sections": [],
      "authorship_tag": "ABX9TyOty8hJB7Nn3gC9Pm8qfw78",
      "include_colab_link": true
    },
    "kernelspec": {
      "name": "python3",
      "display_name": "Python 3"
    },
    "language_info": {
      "name": "python"
    }
  },
  "cells": [
    {
      "cell_type": "markdown",
      "metadata": {
        "id": "view-in-github",
        "colab_type": "text"
      },
      "source": [
        "<a href=\"https://colab.research.google.com/github/hchang18/non-parametric-methods/blob/main/real_data_analysis.ipynb\" target=\"_parent\"><img src=\"https://colab.research.google.com/assets/colab-badge.svg\" alt=\"Open In Colab\"/></a>"
      ]
    },
    {
      "cell_type": "markdown",
      "metadata": {
        "id": "Qr2aAgC2Xe1L"
      },
      "source": [
        "## Real Data Analysis using nonparametric testing\n",
        "### STAT 580 Non parametric methods (Spring 2021) \n",
        "### Final Exam\n",
        "\n",
        "Haeyoon Chang"
      ]
    },
    {
      "cell_type": "markdown",
      "metadata": {
        "id": "YPalnmrktLws"
      },
      "source": [
        "Analyze the attached dataset (data2.txt). Consider following aspects:\n",
        "- Provide some fundamental summaries of these two samples, including tests of your conclusions\n",
        "- Consider the relation between them. If possible, show the relationship in a proper way. "
      ]
    },
    {
      "cell_type": "code",
      "metadata": {
        "id": "ZDhsh-gjyuQn"
      },
      "source": [
        "# import libraries\n",
        "%matplotlib inline\n",
        "import matplotlib.pyplot as plt\n",
        "import matplotlib.patches as mpatches\n",
        "import numpy as np\n",
        "import seaborn as sns\n",
        "from scipy.stats import norm, expon\n",
        "\n",
        "sns.set(color_codes=True)\n",
        "plt.rcParams[\"figure.figsize\"] = (10, 6)"
      ],
      "execution_count": null,
      "outputs": []
    },
    {
      "cell_type": "code",
      "metadata": {
        "id": "uQubsvrQXcc5",
        "colab": {
          "base_uri": "https://localhost:8080/"
        },
        "outputId": "dcce37bf-bd7f-4a03-c2f3-839032e4dce4"
      },
      "source": [
        "# ===================================================\n",
        "# Import the data from data2.txt                    |\n",
        "# ===================================================\n",
        "from google.colab import drive\n",
        "drive.mount('/content/drive')\n",
        "\n",
        "# read in file from data1.txt\n",
        "file = open(\"/content/drive/MyDrive/Colab Notebooks/data2.txt\")\n",
        "filecontent = file.readlines()\n",
        "# clean up to make it into list\n",
        "filecontent = [row.rstrip('\\n').lstrip(' ').replace('  ', ' ').split(' ') \n",
        "               for row in filecontent]\n",
        "# change into array (float)\n",
        "rawdata = np.array(filecontent)\n",
        "\n",
        "data = rawdata[1:].astype(np.float)\n",
        "Y = data[:, 0]\n",
        "X = data[:, 1]\n",
        "m = len(X)\n",
        "n = len(Y)"
      ],
      "execution_count": null,
      "outputs": [
        {
          "output_type": "stream",
          "text": [
            "Drive already mounted at /content/drive; to attempt to forcibly remount, call drive.mount(\"/content/drive\", force_remount=True).\n"
          ],
          "name": "stdout"
        }
      ]
    },
    {
      "cell_type": "code",
      "metadata": {
        "colab": {
          "base_uri": "https://localhost:8080/",
          "height": 393
        },
        "id": "v0SwYLSC9cRP",
        "outputId": "becd750a-8753-4f56-ed24-ee8667280567"
      },
      "source": [
        "# Histogram of X and Y\n",
        "fig, (ax1, ax2) = plt.subplots(1, 2)\n",
        "ax1.hist(X)\n",
        "ax1.set_title(\"X\")\n",
        "ax2.hist(Y)\n",
        "ax2.set_title(\"Y\")\n",
        "fig.show()"
      ],
      "execution_count": null,
      "outputs": [
        {
          "output_type": "display_data",
          "data": {
            "image/png": "[encoded data removed]",
            "text/plain": [
              "<Figure size 720x432 with 2 Axes>"
            ]
          },
          "metadata": {
            "tags": []
          }
        }
      ]
    },
    {
      "cell_type": "markdown",
      "metadata": {
        "id": "8FPUAc8hA6nw"
      },
      "source": [
        "**Fundamental summaries of these two samples**\n",
        "- test whether two samples have same median"
      ]
    },
    {
      "cell_type": "code",
      "metadata": {
        "colab": {
          "base_uri": "https://localhost:8080/"
        },
        "id": "nnhVTvLN9icv",
        "outputId": "fb41cc69-7057-4665-f1cb-211f28499440"
      },
      "source": [
        "# Mann Whitney U test \n",
        "X_set = set(X)\n",
        "Y_set = set(Y)\n",
        "S = np.union1d(X, Y)\n",
        "N = m + n\n",
        "\n",
        "U = 0\n",
        "for x in X:\n",
        "    for y in Y:\n",
        "        if x < y:\n",
        "            U += 1\n",
        "\n",
        "E_u = m * n / 2\n",
        "var_u = m * n * (m + n + 1) / 12\n",
        "\n",
        "z = (U - E_u) / np.sqrt(var_u)\n",
        "\n",
        "if (z > 1.95 or z < - 1.95):\n",
        "    print(\"Reject H0 (medians of two distributions are the same)\")\n",
        "else:\n",
        "    print(\"Cannot reject H0 (medians of two distributions are the same)\")"
      ],
      "execution_count": null,
      "outputs": [
        {
          "output_type": "stream",
          "text": [
            "Reject H0 (medians of two distributions are the same)\n"
          ],
          "name": "stdout"
        }
      ]
    },
    {
      "cell_type": "code",
      "metadata": {
        "colab": {
          "base_uri": "https://localhost:8080/"
        },
        "id": "bXZS27dW_QFK",
        "outputId": "88e07986-f850-4553-9c6f-0657a82b8dc3"
      },
      "source": [
        "# Flinger-Policello test\n",
        "X_set = set(X)\n",
        "Y_set = set(Y)\n",
        "S = np.union1d(X, Y)\n",
        "N = m + n\n",
        "\n",
        "P_i = []\n",
        "for x in X:\n",
        "    count = 0\n",
        "    for y in Y:\n",
        "        if y <= x:\n",
        "            count += 1\n",
        "    P_i.append(count)\n",
        "\n",
        "Q_j = []\n",
        "for y in Y:\n",
        "    count = 0\n",
        "    for x in X:\n",
        "        if x <= y:\n",
        "            count += 1\n",
        "    Q_j.append(count)\n",
        "\n",
        "P_i = np.array(P_i)\n",
        "Q_j = np.array(Q_j)\n",
        "P_bar = np.average(P_i)\n",
        "Q_bar = np.average(Q_j)\n",
        "V1 = sum((P_i - P_bar)**2)\n",
        "V2 = sum((Q_j - Q_bar)**2)\n",
        "U_hat = (sum(Q_j) - sum(P_i))/(2 * np.sqrt(V1 + V2 + P_bar * Q_bar))\n",
        "\n",
        "if (U_hat > 1.95 or U_hat < - 1.95):\n",
        "    print(\"Reject H0 (medians of two distributions are the same)\")\n",
        "else:\n",
        "    print(\"Cannot reject H0 (medians of two distributions are the same)\")"
      ],
      "execution_count": null,
      "outputs": [
        {
          "output_type": "stream",
          "text": [
            "Reject H0 (medians of two distributions are the same)\n"
          ],
          "name": "stdout"
        }
      ]
    },
    {
      "cell_type": "markdown",
      "metadata": {
        "id": "n02v7lr2NltC"
      },
      "source": [
        "**Fundamental summaries of these two samples**\n",
        "- test whether two samples have same variance"
      ]
    },
    {
      "cell_type": "code",
      "metadata": {
        "colab": {
          "base_uri": "https://localhost:8080/"
        },
        "id": "m6hWU7cb_QCo",
        "outputId": "9c21997a-6f61-4e6b-8d7b-bb859e4e4442"
      },
      "source": [
        "# test whether the variance of two samples are the same \n",
        "# first method - assumption that they have same medians\n",
        "X_set = set(X)\n",
        "Y_set = set(Y)\n",
        "S = np.union1d(X, Y)\n",
        "N = m + n\n",
        "\n",
        "# N is odd \n",
        "if N % 2 == 1:\n",
        "    print(\"N odd\")\n",
        "    # create the grid \n",
        "    grid = [i+1 for i in range(int(N/2))]\n",
        "    reversed_grid = grid[::-1]\n",
        "    middle = [int((N+1)/2)]\n",
        "    R = grid + middle + reversed_grid\n",
        "    S.sort()\n",
        "\n",
        "    # calculate C\n",
        "    C = 0\n",
        "    for k in range(N):\n",
        "        if S[k] in Y_set:\n",
        "            C += R[k]\n",
        "\n",
        "    E_c = (n * (N+1)**2) / (4*N)\n",
        "    var_c = n * (N-n) * (N+1) * (N**2 + 3) / (48 * N**2)\n",
        "\n",
        "    Q = (C - E_c) / np.sqrt(var_c)\n",
        "else:\n",
        "    print(\"N even\")\n",
        "\n",
        "    grid = [i+1 for i in range(int(N/2))]\n",
        "    reversed_grid = grid[::-1]\n",
        "    R = grid + reversed_grid\n",
        "    S.sort()\n",
        "\n",
        "    # calculate C\n",
        "    C = 0\n",
        "    for i in range(N):\n",
        "        if S[i] in Y_set:\n",
        "            C += R[i]\n",
        "\n",
        "    E_c = n * (N+2) / 4\n",
        "    var_c = n * (N-n) * (N+2) * (N-2) / (48*(N-1))\n",
        "\n",
        "    Q = (C - E_c) / np.sqrt(var_c)\n",
        "\n",
        "if (Q > 1.95 or Q < - 1.95):\n",
        "    print(\"Reject H0 (variances of two distributions are the same)\")\n",
        "else:\n",
        "    print(\"Cannot reject H0 (variances of two distributions are the same)\")"
      ],
      "execution_count": null,
      "outputs": [
        {
          "output_type": "stream",
          "text": [
            "N even\n",
            "Reject H0 (variances of two distributions are the same)\n"
          ],
          "name": "stdout"
        }
      ]
    },
    {
      "cell_type": "code",
      "metadata": {
        "colab": {
          "base_uri": "https://localhost:8080/"
        },
        "id": "1naJXxUW_QAA",
        "outputId": "d505d441-22e8-4a18-954e-110d0640f126"
      },
      "source": [
        "# test whether the variance of two samples are the same \n",
        "# second method - relaxed assumption that they have same medians\n",
        "X_sum = np.full(m, sum(X))\n",
        "X_s = X_sum - X\n",
        "X_i_bar = X_s / (m - 1) \n",
        "D_i = (X_s - X_i_bar)**2 / (m - 2)\n",
        "\n",
        "Y_sum = np.full(n, sum(Y))\n",
        "Y_s = Y_sum - Y\n",
        "Y_j_bar = Y_s / (n - 1)\n",
        "E_j = (Y_s - Y_j_bar) ** 2 / (n - 2)\n",
        "\n",
        "X_0_bar = sum(X) / m\n",
        "D_0 = sum((X - X_0_bar)**2 / (m-1))\n",
        "\n",
        "Y_0_bar = sum(Y) / n\n",
        "E_0 = sum((Y - Y_0_bar)**2 / (n-1))\n",
        "\n",
        "S_i = np.log(D_i)\n",
        "T_j = np.log(E_j)\n",
        "S_0 = np.log(D_0)\n",
        "T_0 = np.log(E_0)\n",
        "\n",
        "A_i = m * S_0 - (m - 1) * S_i\n",
        "B_j = n * T_0 - (n - 1) * T_j\n",
        "\n",
        "A_bar = sum(A_i) / m\n",
        "B_bar = sum(B_j) / n\n",
        "\n",
        "V1 = 1 / (m*(m-1)) * sum((A_i - A_bar)**2)\n",
        "V2 = 1 / (n*(n-1)) * sum((B_j - B_bar)**2)\n",
        "\n",
        "Q = (A_bar - B_bar) / np.sqrt(V1 + V2)\n",
        "print(f\"Q: {Q}\")\n",
        "\n",
        "if (Q > 1.95 or Q < - 1.95):\n",
        "    print(\"Reject H0 (variances of two distributions are the same)\")\n",
        "else:\n",
        "    print(\"Cannot reject H0 (variances of two distributions are the same)\")"
      ],
      "execution_count": null,
      "outputs": [
        {
          "output_type": "stream",
          "text": [
            "Q: -644.5561628136352\n",
            "Reject H0 (variances of two distributions are the same)\n"
          ],
          "name": "stdout"
        }
      ]
    },
    {
      "cell_type": "markdown",
      "metadata": {
        "id": "u21BtzMHBM1H"
      },
      "source": [
        "**Relation between X and Y** \n",
        "\n",
        "Approach: test whether X and Y are independent using Kendall's independence test"
      ]
    },
    {
      "cell_type": "code",
      "metadata": {
        "colab": {
          "base_uri": "https://localhost:8080/",
          "height": 309
        },
        "id": "uWHBNOyB8j9g",
        "outputId": "243807c6-a7ea-47a6-a188-2d311e837ea3"
      },
      "source": [
        "# X and Y scatter plot\n",
        "sns.set(color_codes=True)\n",
        "plt.rcParams[\"figure.figsize\"] = (12, 8)\n",
        "\n",
        "fig = plt.figure()\n",
        "ax = fig.add_subplot(2, 2, 1)\n",
        "ax.scatter(X, Y)\n",
        "g = ax.grid(True)\n",
        "leg = mpatches.Patch(color=None, label='original data plots')\n",
        "ax.legend(handles=[leg])\n",
        "plt.tight_layout()\n",
        "plt.show()"
      ],
      "execution_count": null,
      "outputs": [
        {
          "output_type": "display_data",
          "data": {
            "image/png": "[encoded data removed]",
            "text/plain": [
              "<Figure size 864x576 with 1 Axes>"
            ]
          },
          "metadata": {
            "tags": []
          }
        }
      ]
    },
    {
      "cell_type": "code",
      "metadata": {
        "colab": {
          "base_uri": "https://localhost:8080/"
        },
        "id": "XpmCKDi2CqAQ",
        "outputId": "2f4ae686-65b0-4085-ff9f-889f2a85f9fa"
      },
      "source": [
        "# kendall tau independence\n",
        "\n",
        "# function to sort the list by X (second item) of tuple\n",
        "def Sort_Tuple(tup):\n",
        "    return sorted(tup, key=lambda x: x[1])\n",
        "\n",
        "# sort the array with X\n",
        "sorted_data = np.array(Sort_Tuple(data))\n",
        "X = sorted_data[:, 1]\n",
        "Y = sorted_data[:, 0]\n",
        "\n",
        "concordant = 0\n",
        "discordant = 0\n",
        "\n",
        "for i in range(n-1):\n",
        "    for j in range(i+1, n):\n",
        "        if Y[j] > X[i]:\n",
        "            concordant += 1\n",
        "        if Y[j] < Y[i]:\n",
        "            discordant += 1\n",
        "\n",
        "tau = (concordant - discordant) / (concordant + discordant)\n",
        "print(f'tau: {tau}')"
      ],
      "execution_count": null,
      "outputs": [
        {
          "output_type": "stream",
          "text": [
            "tau: 0.41127497621313036\n"
          ],
          "name": "stdout"
        }
      ]
    },
    {
      "cell_type": "code",
      "metadata": {
        "colab": {
          "base_uri": "https://localhost:8080/"
        },
        "id": "aOq-Iy0Tt9ua",
        "outputId": "9631bcfc-bbf2-4901-f738-174d22482b9b"
      },
      "source": [
        "# source of z calculation: https://www.statology.org/kendalls-tau/\n",
        "# statistical significance of Kendall's tau\n",
        "# since n = 200, tau generally follows normal distribution\n",
        "z = 3 * tau * np.sqrt(n * (n-1)) / np.sqrt(2*(2*n+5))\n",
        "\n",
        "if (z > 1.95 or z < - 1.95):\n",
        "    print(\"Reject H0 (two samples are independent)\")\n",
        "else:\n",
        "    print(\"Cannot reject H0 (two samples are independent)\")"
      ],
      "execution_count": null,
      "outputs": [
        {
          "output_type": "stream",
          "text": [
            "Reject H0 (two samples are independent)\n"
          ],
          "name": "stdout"
        }
      ]
    },
    {
      "cell_type": "code",
      "metadata": {
        "colab": {
          "base_uri": "https://localhost:8080/"
        },
        "id": "Rp5WQePbuCU3",
        "outputId": "77413825-679a-4ed6-e768-45763eadb7f2"
      },
      "source": [
        "# optimal sample size\n",
        "z_alpha = 1.96\n",
        "z_beta = 1.96 \n",
        "min_n = 4 * (z_alpha + z_beta) ** 2 / (9 * tau ** 2)\n",
        "int(min_n+1)"
      ],
      "execution_count": null,
      "outputs": [
        {
          "output_type": "execute_result",
          "data": {
            "text/plain": [
              "41"
            ]
          },
          "metadata": {
            "tags": []
          },
          "execution_count": 142
        }
      ]
    },
    {
      "cell_type": "code",
      "metadata": {
        "colab": {
          "base_uri": "https://localhost:8080/"
        },
        "id": "QOLe6DQ2-bCn",
        "outputId": "a4cb345d-b3d2-4ae9-cfba-85f34c43db1e"
      },
      "source": [
        "# package implementation for comparison\n",
        "from scipy import stats\n",
        "\n",
        "t, p_value = stats.kendalltau(X, Y)\n",
        "print(f'tau: {t} and p_value: {p_value}')"
      ],
      "execution_count": null,
      "outputs": [
        {
          "output_type": "stream",
          "text": [
            "tau: 0.5025125628140704 and p_value: 4.221360164238082e-26\n"
          ],
          "name": "stdout"
        }
      ]
    },
    {
      "cell_type": "markdown",
      "metadata": {
        "id": "grsyNdIlMTYw"
      },
      "source": [
        "**Show the relationship between X and Y** \n",
        "\n",
        "Approach: kernel regression estimator with bandwidth chosen from cross validation"
      ]
    },
    {
      "cell_type": "code",
      "metadata": {
        "id": "FnnEOCU65Jok"
      },
      "source": [
        "# ============================================\n",
        "# Kernel Regression Estimator                |\n",
        "# ============================================\n",
        "def kernel_regression_estimator(data, kernel_func, bandwidth):\n",
        "    \"\"\" Generate kernel regression estimator over data.\"\"\"\n",
        "    X = data[:, 1]\n",
        "    Y = data[:, 0]\n",
        "    kernels = dict()\n",
        "    n = len(X)\n",
        "    for d in X:\n",
        "        kernels[d] = kernel_func(d, bandwidth)\n",
        "    def evaluate(x):\n",
        "        \"\"\"Evaluate `x` using kernels above.\"\"\"\n",
        "        resp = list()\n",
        "        weight = list()\n",
        "        for d in X:\n",
        "            resp.append(kernels[d](x))\n",
        "        resp_sum = sum(resp) # denominator\n",
        "        for i in range(n):\n",
        "            weight.append(resp[i]/resp_sum)\n",
        "        result = list()\n",
        "        for i in range(n):\n",
        "            result.append(weight[i]*Y[i])\n",
        "        return sum(result)\n",
        "    return (evaluate)"
      ],
      "execution_count": null,
      "outputs": []
    },
    {
      "cell_type": "code",
      "metadata": {
        "id": "X94hRi1u5N_3"
      },
      "source": [
        "# ============================================\n",
        "# Gaussian Kernel PDF                        |\n",
        "# ============================================\n",
        "def gaussian_pdf(x_i, bandwidth):\n",
        "    \"\"\"Return Gaussian kernel density estimator.\"\"\"\n",
        "    x_bar  = x_i\n",
        "    def evaluate(x):\n",
        "        \"\"\"Evaluate x.\"\"\"\n",
        "        pdf = (np.sqrt(2*np.pi*bandwidth**2)**-1) * np.exp(-((x - x_bar)**2)/(2*bandwidth**2))\n",
        "        return(pdf)\n",
        "    return(evaluate)"
      ],
      "execution_count": null,
      "outputs": []
    },
    {
      "cell_type": "code",
      "metadata": {
        "id": "3VSq9D5S5Oln"
      },
      "source": [
        "from random import seed\n",
        "from random import randrange\n",
        "\n",
        "def cross_validation_split(dataset, folds=10):\n",
        "    dataset_split = list()\n",
        "    dataset_copy = list(dataset)\n",
        "    fold_size = int(len(dataset)/folds)\n",
        "    for i in range(folds):\n",
        "        fold = list()\n",
        "        while len(fold) < fold_size:\n",
        "            index = randrange(len(dataset_copy))\n",
        "            fold.append(dataset_copy.pop(index))\n",
        "        dataset_split.append(fold)\n",
        "    return dataset_split\n",
        "\n",
        "def bundle_test_train_set(dataset, k, test_idx):\n",
        "    folds = cross_validation_split(dataset, folds=k)\n",
        "    test = np.array(folds[test_idx])\n",
        "    \n",
        "    train = list()\n",
        "    for i, x in enumerate(folds):\n",
        "        if i != test_idx:\n",
        "            train.extend(folds[i])\n",
        "    train = np.array(train)\n",
        "    return test, train"
      ],
      "execution_count": null,
      "outputs": []
    },
    {
      "cell_type": "code",
      "metadata": {
        "id": "zHLks_cC5TDH"
      },
      "source": [
        "def estimate_bandwidth(data, kernel_function):\n",
        "\n",
        "    num_samples = len(data[:, 0])\n",
        "    y = data[:, 0]\n",
        "    x = data[:, 1]\n",
        "    # list of bandwidth \n",
        "    bandwidths = np.arange(0.01, 2, 0.02)\n",
        "\n",
        "    # estimate y_hat corresponding to X\n",
        "    errors = list()\n",
        "    k = 10\n",
        "    for h in bandwidths:\n",
        "        error = 0\n",
        "        folds = cross_validation_split(data, k)\n",
        "        for i in range(k):\n",
        "            test, train = bundle_test_train_set(data, k, i)\n",
        "            estimator = kernel_regression_estimator(train, kernel_func=kernel_function, bandwidth=h)\n",
        "            y_hat = [estimator(x) for x in test[:, 1]]\n",
        "            error += (test[:, 0] - y_hat)**2\n",
        "        errors.append(sum(error))\n",
        "\n",
        "    errors = np.array(errors)\n",
        "    # print(errors)\n",
        "    # print(min(errors))\n",
        "    h_opt = bandwidths[np.argmin(errors)]\n",
        "    return h_opt  "
      ],
      "execution_count": null,
      "outputs": []
    },
    {
      "cell_type": "code",
      "metadata": {
        "id": "hqsu_i4A5cjT"
      },
      "source": [
        "# =========================================\n",
        "# kernel density estimates visualizations |\n",
        "# =========================================\n",
        "def plot_kre(data, kernel_function):\n",
        "\n",
        "    seed(2)\n",
        "\n",
        "    num_samples = len(data[:, 0])\n",
        "    vals = data[:, 1] # x\n",
        "    xvals = np.arange(min(vals), max(vals), .01)\n",
        "\n",
        "    # ========================================================\n",
        "    # Bandwidth Selection : rule-of-thumb plugin             |\n",
        "    # ========================================================\n",
        "    # bandwidth estimation based on kernel function\n",
        "\n",
        "    if \"uniform_pdf\" in str(kernel_function):\n",
        "        sigma_hat = np.std(vals)\n",
        "        R_k = 1/2\n",
        "        kappa_2 = 1/3\n",
        "        h_opt = (((8 * (np.pi**0.5) * R_k) / (3 * kappa_2 * num_samples))**0.2) * sigma_hat \n",
        "    \n",
        "    elif \"epanechnikov_pdf\" in str(kernel_function):\n",
        "        sigma_hat = np.std(vals)\n",
        "        R_k = 3/5\n",
        "        kappa_2 = 1/5\n",
        "        h_opt = (((8 * (np.pi**0.5) * R_k) / (3 * kappa_2 * num_samples))**0.2) * sigma_hat \n",
        "    \n",
        "    elif \"gaussian_pdf\" in str(kernel_function):\n",
        "        sigma_hat = np.std(vals)\n",
        "        R_k = 1 / (2 * (np.pi**0.5))\n",
        "        kappa_2 = 1\n",
        "        h_opt = (((8 * (np.pi**0.5) * R_k) / (3 * kappa_2 * num_samples))**0.2) * sigma_hat \n",
        "\n",
        "    # ========================================================\n",
        "    # Bandwidth Selection : cross-validation                 |\n",
        "    # ========================================================\n",
        "    h_cv = estimate_bandwidth(data, gaussian_pdf)\n",
        "\n",
        "    # ========================================================\n",
        "    # Optimized Bandwidth visualization                      |\n",
        "    # ========================================================\n",
        "    fig = plt.figure()\n",
        "\n",
        "    # bandwidth=optimal_bandwidth_plugin:\n",
        "    ax4 = fig.add_subplot(2, 2, 1)\n",
        "    dist_4 = kernel_regression_estimator(data, kernel_func=kernel_function, bandwidth=h_opt)\n",
        "    y4 = [dist_4(i) for i in xvals]\n",
        "    ax4.scatter(data[:, 1], data[:, 0])\n",
        "    ax4.plot(xvals, y4)\n",
        "\n",
        "    # bandwidth=optimal_bandwidth_crossvalidated:\n",
        "    ax5 = fig.add_subplot(2, 2, 2)\n",
        "    dist_5 = kernel_regression_estimator(data, kernel_func=kernel_function, bandwidth=h_cv)\n",
        "    y5 = [dist_5(i) for i in xvals]\n",
        "    ax5.scatter(data[:, 1], data[:, 0])\n",
        "    ax5.plot(xvals, y5)\n",
        "\n",
        "    # display gridlines \n",
        "    g4 = ax4.grid(True)\n",
        "    g5 = ax5.grid(True)\n",
        "\n",
        "    # display legend in each subplot\n",
        "    leg4 = mpatches.Patch(color=None, label=f'plug-in bandwidth={h_opt}')\n",
        "    leg5 = mpatches.Patch(color=None, label=f'cross-validated bandwidth={h_cv}')\n",
        "\n",
        "    ax4.legend(handles=[leg4])\n",
        "    ax5.legend(handles=[leg5])\n",
        "\n",
        "    plt.tight_layout()\n",
        "    plt.show()"
      ],
      "execution_count": null,
      "outputs": []
    },
    {
      "cell_type": "code",
      "metadata": {
        "colab": {
          "base_uri": "https://localhost:8080/",
          "height": 298
        },
        "id": "Sy-UdY6Q5eya",
        "outputId": "0415c6ec-5a14-4140-d069-16b3cbfcbcee"
      },
      "source": [
        "plot_kre(data, gaussian_pdf)"
      ],
      "execution_count": null,
      "outputs": [
        {
          "output_type": "display_data",
          "data": {
            "image/png": "[encoded data removed]",
            "text/plain": [
              "<Figure size 864x576 with 2 Axes>"
            ]
          },
          "metadata": {
            "tags": []
          }
        }
      ]
    }
  ]
}