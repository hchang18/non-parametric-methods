{
  "nbformat": 4,
  "nbformat_minor": 0,
  "metadata": {
    "colab": {
      "name": "non-parametric-testing-two-dists.ipynb",
      "provenance": [],
      "collapsed_sections": [],
      "authorship_tag": "ABX9TyPItRK5FLvoCruTHE9mibJJ",
      "include_colab_link": true
    },
    "kernelspec": {
      "name": "python3",
      "display_name": "Python 3"
    },
    "language_info": {
      "name": "python"
    }
  },
  "cells": [
    {
      "cell_type": "markdown",
      "metadata": {
        "id": "view-in-github",
        "colab_type": "text"
      },
      "source": [
        "<a href=\"https://colab.research.google.com/github/hchang18/non-parametric-methods/blob/main/non_parametric_testing_two_dists.ipynb\" target=\"_parent\"><img src=\"https://colab.research.google.com/assets/colab-badge.svg\" alt=\"Open In Colab\"/></a>"
      ]
    },
    {
      "cell_type": "markdown",
      "metadata": {
        "id": "jcFBV5zeM-PX"
      },
      "source": [
        "## Nonparametric testing on two distributions\n",
        "### STAT 580 Non parametric methods (Spring 2021) \n",
        "### Homework 5\n",
        "\n",
        "Haeyoon Chang"
      ]
    },
    {
      "cell_type": "markdown",
      "metadata": {
        "id": "MgKW3ZdVTERi"
      },
      "source": [
        "**Overall takeaway** The testing results depended on size of random samples and random samples themselves from each distribution. My expectation was that null hypotheses would be rejected as long as the sample size $>20$. However, the null hypothesis was rejected and sometimes not rejected despite the sample size bigger than 20. I think it would be worthwhile to use bootstrap methods to run multiple experiments (at the expense of computation) instead of just one experiment. Please see below for the analysis on each of questions below. "
      ]
    },
    {
      "cell_type": "code",
      "metadata": {
        "id": "DxPSdTe--hdW"
      },
      "source": [
        "# import libraries\n",
        "%matplotlib inline\n",
        "import matplotlib.pyplot as plt\n",
        "import numpy as np\n",
        "from scipy.stats import ranksums, wilcoxon, zscore\n",
        "\n",
        "np.random.seed(1)"
      ],
      "execution_count": 1,
      "outputs": []
    },
    {
      "cell_type": "markdown",
      "metadata": {
        "id": "X6DADvjLedTm"
      },
      "source": [
        "1. Generate $N(0.2, 1)$ and $N(0.5, 1)$ independently for two samples, $X$ and $Y$, respectively. Test whether the medians of two samples are the same using proper method. Analyze your results.\n",
        "\n",
        "    **Approach**  Although Mann-Whitney U test and Wilcoxon test are both nonparametric and involves summation of ranks, Wilcoxon two sample (signed rank) test is applied to matched or dependent samples while Mann-Whitney is applied to independent samples. The assumptions here are 1) two samples are independent from each other and 2) two samples have same variance. Therefore, I am using Mann Whitney U test. \n",
        "\n",
        "    Null hypothesis was rejected with 30 and 40 data points from X and Y respectively.  "
      ]
    },
    {
      "cell_type": "code",
      "metadata": {
        "colab": {
          "base_uri": "https://localhost:8080/",
          "height": 281
        },
        "id": "UtLPKIUWnmra",
        "outputId": "a25769d8-8742-4dc6-e7d6-010e3c069a2f"
      },
      "source": [
        "# Generate X from N(0.2, 1) and Y from N(0.5, 1)\n",
        "m = 300 # number of Xs\n",
        "n = 400 # number of Ys\n",
        "X = np.random.normal(0.2, 1, size=m)\n",
        "Y = np.random.normal(0.5, 1, size=n)\n",
        "\n",
        "fig, (ax1, ax2) = plt.subplots(1, 2)\n",
        "ax1.hist(X)\n",
        "ax1.set_title(\"X ~ N(0.2, 1)\")\n",
        "ax1.set_xlim([-4, 4])\n",
        "ax2.hist(Y)\n",
        "ax2.set_title(\"Y ~ N(0.5, 1)\")\n",
        "ax2.set_xlim([-4, 4])\n",
        "fig.show()"
      ],
      "execution_count": 2,
      "outputs": [
        {
          "output_type": "display_data",
          "data": {
            "image/png": "[encoded data removed]",
            "text/plain": [
              "<Figure size 432x288 with 2 Axes>"
            ]
          },
          "metadata": {
            "tags": [],
            "needs_background": "light"
          }
        }
      ]
    },
    {
      "cell_type": "code",
      "metadata": {
        "id": "ok3KGrGwuVUs"
      },
      "source": [
        "# Pool in one \n",
        "X_set = set(X)\n",
        "Y_set = set(Y)\n",
        "S = np.union1d(X, Y)\n",
        "N = m + n\n",
        "\n",
        "U = 0\n",
        "for x in X:\n",
        "    for y in Y:\n",
        "        if x < y:\n",
        "            U += 1\n",
        "\n",
        "E_u = m * n / 2\n",
        "var_u = m * n * (m + n + 1) / 12\n",
        "\n",
        "z = (U - E_u) / np.sqrt(var_u)"
      ],
      "execution_count": 3,
      "outputs": []
    },
    {
      "cell_type": "code",
      "metadata": {
        "colab": {
          "base_uri": "https://localhost:8080/"
        },
        "id": "jbc7Y2zNNzEl",
        "outputId": "8e0e6a2f-85fe-40f2-d5ee-bf78b68b1271"
      },
      "source": [
        "if (z > 1.95 or z < - 1.95):\n",
        "    print(\"Reject H0 (medians of two distributions are the same)\")\n",
        "else:\n",
        "    print(\"Cannot reject H0 (medians of two distributions are the same)\")"
      ],
      "execution_count": 4,
      "outputs": [
        {
          "output_type": "stream",
          "text": [
            "Reject H0 (medians of two distributions are the same)\n"
          ],
          "name": "stdout"
        }
      ]
    },
    {
      "cell_type": "markdown",
      "metadata": {
        "id": "bjIvH61vedRZ"
      },
      "source": [
        "2. Generate $N(0.2, 0.5)$ and $N(0.5, 1)$ independently for two samples, $X$ and $Y$, respectively. Test whether the medians of two samples are the same using proper method. Analyze your results.\n",
        "\n",
        "    **Approach** Fligner-Policello test since we want no assumption on shape or scale of the distribution. (two different symmetric distributions)\n",
        "\n",
        "    Null hypothesis was rejected with 30 and 40 data points from X and Y respectively.  "
      ]
    },
    {
      "cell_type": "code",
      "metadata": {
        "colab": {
          "base_uri": "https://localhost:8080/",
          "height": 281
        },
        "id": "tkIYtxSdqXQV",
        "outputId": "51607255-bd92-4592-b7b4-d20c655826b5"
      },
      "source": [
        "# Generate X from N(0.2, 0.5) and Y from N(0.5, 1)\n",
        "m = 300 # number of Xs\n",
        "n = 400 # number of Ys\n",
        "X = np.random.normal(0.2, 0.5, size=m)\n",
        "Y = np.random.normal(0.5, 1, size=n)\n",
        "\n",
        "fig, (ax1, ax2) = plt.subplots(1, 2)\n",
        "ax1.hist(X)\n",
        "ax1.set_title(\"X ~ N(0.2, 1)\")\n",
        "ax1.set_xlim([-4, 4])\n",
        "ax2.hist(Y)\n",
        "ax2.set_title(\"Y ~ N(0.5, 1)\")\n",
        "ax2.set_xlim([-4, 4])\n",
        "fig.show()"
      ],
      "execution_count": 5,
      "outputs": [
        {
          "output_type": "display_data",
          "data": {
            "image/png": "[encoded data removed]",
            "text/plain": [
              "<Figure size 432x288 with 2 Axes>"
            ]
          },
          "metadata": {
            "tags": [],
            "needs_background": "light"
          }
        }
      ]
    },
    {
      "cell_type": "code",
      "metadata": {
        "id": "FssUvXCKqqxl"
      },
      "source": [
        "# Pool in one \n",
        "X_set = set(X)\n",
        "Y_set = set(Y)\n",
        "S = np.union1d(X, Y)\n",
        "N = m + n\n",
        "\n",
        "P_i = []\n",
        "for x in X:\n",
        "    count = 0\n",
        "    for y in Y:\n",
        "        if y <= x:\n",
        "            count += 1\n",
        "    P_i.append(count)\n",
        "\n",
        "Q_j = []\n",
        "for y in Y:\n",
        "    count = 0\n",
        "    for x in X:\n",
        "        if x <= y:\n",
        "            count += 1\n",
        "    Q_j.append(count)\n",
        "\n",
        "P_i = np.array(P_i)\n",
        "Q_j = np.array(Q_j)\n",
        "P_bar = np.average(P_i)\n",
        "Q_bar = np.average(Q_j)\n",
        "V1 = sum((P_i - P_bar)**2)\n",
        "V2 = sum((Q_j - Q_bar)**2)\n",
        "U_hat = (sum(Q_j) - sum(P_i))/(2 * np.sqrt(V1 + V2 + P_bar * Q_bar))"
      ],
      "execution_count": 6,
      "outputs": []
    },
    {
      "cell_type": "code",
      "metadata": {
        "colab": {
          "base_uri": "https://localhost:8080/"
        },
        "id": "tYZ1Lh5Ds6U7",
        "outputId": "f935c4a9-8496-46f6-d5d8-f6f16f48a6cc"
      },
      "source": [
        "if (U_hat > 1.95 or U_hat < - 1.95):\n",
        "    print(\"Reject H0 (medians of two distributions are the same)\")\n",
        "else:\n",
        "    print(\"Cannot reject H0 (medians of two distributions are the same)\")"
      ],
      "execution_count": 7,
      "outputs": [
        {
          "output_type": "stream",
          "text": [
            "Reject H0 (medians of two distributions are the same)\n"
          ],
          "name": "stdout"
        }
      ]
    },
    {
      "cell_type": "markdown",
      "metadata": {
        "id": "JrxSFY3LedPK"
      },
      "source": [
        "3. Generate $N(0, 1)$ and $N(0, 0.8)$ independently for two samples, $X$ and $Y$, respectively. Test whether the variances of two samples are the same using proper melthods. Analyze your results.\n",
        "\n",
        "    **Approach** First two-sample-dispersion test can be used in this case since medians are assumed to be same for two distributions\n",
        "\n",
        "    $H_0 : \\gamma^2 = \\frac{var(X)}{var(Y)} = 1 $ \n",
        "\n",
        "    Null hypothesis was rejected with 100 and 101 data points from X and Y respectively. "
      ]
    },
    {
      "cell_type": "code",
      "metadata": {
        "colab": {
          "base_uri": "https://localhost:8080/",
          "height": 281
        },
        "id": "Ea8pClRHVavS",
        "outputId": "504e4168-f2db-4b47-8536-1fffc336e244"
      },
      "source": [
        "# Generate X from N(0, 1) and Y from N(0, 0.8)\n",
        "m = 300 # number of Xs\n",
        "n = 400 # number of Ys\n",
        "X = np.random.normal(0, 1, size=m)\n",
        "Y = np.random.normal(0, 0.8, size=n)\n",
        "\n",
        "fig, (ax1, ax2) = plt.subplots(1, 2)\n",
        "ax1.hist(X)\n",
        "ax1.set_title(\"X ~ N(0, 1)\")\n",
        "ax1.set_xlim([-4, 4])\n",
        "ax2.hist(Y)\n",
        "ax2.set_title(\"Y ~ N(0, 0.8)\")\n",
        "ax2.set_xlim([-4, 4])\n",
        "fig.show()"
      ],
      "execution_count": 8,
      "outputs": [
        {
          "output_type": "display_data",
          "data": {
            "image/png": "[encoded data removed]",
            "text/plain": [
              "<Figure size 432x288 with 2 Axes>"
            ]
          },
          "metadata": {
            "tags": [],
            "needs_background": "light"
          }
        }
      ]
    },
    {
      "cell_type": "code",
      "metadata": {
        "colab": {
          "base_uri": "https://localhost:8080/"
        },
        "id": "ewsaufugeH-W",
        "outputId": "66af10ae-1d6a-4198-c9de-fe07828ef9fa"
      },
      "source": [
        "# Pool in one \n",
        "X_set = set(X)\n",
        "Y_set = set(Y)\n",
        "S = np.union1d(X, Y)\n",
        "N = m + n\n",
        "\n",
        "# N is odd \n",
        "if N % 2 == 1:\n",
        "    print(\"N odd\")\n",
        "    # create the grid \n",
        "    grid = [i+1 for i in range(int(N/2))]\n",
        "    reversed_grid = grid[::-1]\n",
        "    middle = [int((N+1)/2)]\n",
        "    R = grid + middle + reversed_grid\n",
        "    S.sort()\n",
        "\n",
        "    # calculate C\n",
        "    C = 0\n",
        "    for k in range(N):\n",
        "        if S[k] in Y_set:\n",
        "            C += R[k]\n",
        "\n",
        "    E_c = (n * (N+1)**2) / (4*N)\n",
        "    var_c = n * (N-n) * (N+1) * (N**2 + 3) / (48 * N**2)\n",
        "\n",
        "    Q = (C - E_c) / np.sqrt(var_c)\n",
        "else:\n",
        "    print(\"N even\")\n",
        "\n",
        "    grid = [i+1 for i in range(int(N/2))]\n",
        "    reversed_grid = grid[::-1]\n",
        "    R = grid + reversed_grid\n",
        "    S.sort()\n",
        "\n",
        "    # calculate C\n",
        "    C = 0\n",
        "    for i in range(N):\n",
        "        if S[i] in Y_set:\n",
        "            C += R[i]\n",
        "\n",
        "    E_c = n * (N+2) / 4\n",
        "    var_c = n * (N-n) * (N+2) * (N-2) / (48*(N-1))\n",
        "\n",
        "    Q = (C - E_c) / np.sqrt(var_c)"
      ],
      "execution_count": 9,
      "outputs": [
        {
          "output_type": "stream",
          "text": [
            "N even\n"
          ],
          "name": "stdout"
        }
      ]
    },
    {
      "cell_type": "code",
      "metadata": {
        "colab": {
          "base_uri": "https://localhost:8080/"
        },
        "id": "as8dqxfJnXaT",
        "outputId": "53f5f66b-8b3f-4966-e8b2-e40968238bb2"
      },
      "source": [
        "if (Q > 1.95 or Q < - 1.95):\n",
        "    print(\"Reject H0 (variances of two distributions are the same)\")\n",
        "else:\n",
        "    print(\"Cannot reject H0 (variances of two distributions are the same)\")"
      ],
      "execution_count": 10,
      "outputs": [
        {
          "output_type": "stream",
          "text": [
            "Reject H0 (variances of two distributions are the same)\n"
          ],
          "name": "stdout"
        }
      ]
    },
    {
      "cell_type": "markdown",
      "metadata": {
        "id": "7Rnf4uQwedM6"
      },
      "source": [
        "4. Generate $N(0.5, 1)$ and $N(0, 0.9)$ independently for two samples, $X$ and $Y$, respectively. Test whether the variances of two samples are the same using proper melthods. Analyze your results.\n",
        "\n",
        "    **Approach** We have to relax the assumption on the same medians, use the second test statistics\n",
        "\n",
        "    $H_0 : \\gamma^2 = \\frac{var(X)}{var(Y)} = 1 $ \n",
        "\n",
        "    Null hypothesis was rejected with 20 and 15 data points from X and Y respectively. "
      ]
    },
    {
      "cell_type": "code",
      "metadata": {
        "colab": {
          "base_uri": "https://localhost:8080/",
          "height": 281
        },
        "id": "hw_iMrueqD8b",
        "outputId": "76770b50-a1eb-44b8-93cd-7ab94171bb2c"
      },
      "source": [
        "# Generate X from N(0.5, 1) and Y from N(0, 0.9)\n",
        "m = 300 # number of Xs\n",
        "n = 400 # number of Ys\n",
        "X = np.random.normal(0.5, 1, size=m)\n",
        "Y = np.random.normal(0, 0.9, size=n)\n",
        "\n",
        "fig, (ax1, ax2) = plt.subplots(1, 2)\n",
        "ax1.hist(X)\n",
        "ax1.set_title(\"X ~ N(0.5, 1)\")\n",
        "ax2.hist(Y)\n",
        "ax2.set_title(\"Y ~ N(0, 0.9)\")\n",
        "fig.show()"
      ],
      "execution_count": 11,
      "outputs": [
        {
          "output_type": "display_data",
          "data": {
            "image/png": "[encoded data removed]",
            "text/plain": [
              "<Figure size 432x288 with 2 Axes>"
            ]
          },
          "metadata": {
            "tags": [],
            "needs_background": "light"
          }
        }
      ]
    },
    {
      "cell_type": "code",
      "metadata": {
        "colab": {
          "base_uri": "https://localhost:8080/"
        },
        "id": "ljn88ojWrPB5",
        "outputId": "1ca86d57-7527-49fd-d878-aa0e2d3e031c"
      },
      "source": [
        "# Test Procedure \n",
        "X_sum = np.full(m, sum(X))\n",
        "X_s = X_sum - X\n",
        "X_i_bar = X_s / (m - 1) \n",
        "D_i = (X_s - X_i_bar)**2 / (m - 2)\n",
        "\n",
        "Y_sum = np.full(n, sum(Y))\n",
        "Y_s = Y_sum - Y\n",
        "Y_j_bar = Y_s / (n - 1)\n",
        "E_j = (Y_s - Y_j_bar) ** 2 / (n - 2)\n",
        "\n",
        "X_0_bar = sum(X) / m\n",
        "D_0 = sum((X - X_0_bar)**2 / (m-1))\n",
        "\n",
        "Y_0_bar = sum(Y) / n\n",
        "E_0 = sum((Y - Y_0_bar)**2 / (n-1))\n",
        "\n",
        "S_i = np.log(D_i)\n",
        "T_j = np.log(E_j)\n",
        "S_0 = np.log(D_0)\n",
        "T_0 = np.log(E_0)\n",
        "\n",
        "A_i = m * S_0 - (m - 1) * S_i\n",
        "B_j = n * T_0 - (n - 1) * T_j\n",
        "\n",
        "A_bar = sum(A_i) / m\n",
        "B_bar = sum(B_j) / n\n",
        "\n",
        "V1 = 1 / (m*(m-1)) * sum((A_i - A_bar)**2)\n",
        "V2 = 1 / (n*(n-1)) * sum((B_j - B_bar)**2)\n",
        "\n",
        "Q = (A_bar - B_bar) / np.sqrt(V1 + V2)\n",
        "print(f\"Q: {Q}\")\n",
        "\n"
      ],
      "execution_count": 12,
      "outputs": [
        {
          "output_type": "stream",
          "text": [
            "Q: -85.2531520049371\n"
          ],
          "name": "stdout"
        }
      ]
    },
    {
      "cell_type": "code",
      "metadata": {
        "colab": {
          "base_uri": "https://localhost:8080/"
        },
        "id": "qdcBCNFpnZOr",
        "outputId": "29367151-894f-4f23-cccf-8facb2a879bc"
      },
      "source": [
        "if (Q > 1.95 or Q < - 1.95):\n",
        "    print(\"Reject H0 (variances of two distributions are the same)\")\n",
        "else:\n",
        "    print(\"Cannot reject H0 (variances of two distributions are the same)\")"
      ],
      "execution_count": 13,
      "outputs": [
        {
          "output_type": "stream",
          "text": [
            "Reject H0 (variances of two distributions are the same)\n"
          ],
          "name": "stdout"
        }
      ]
    }
  ]
}